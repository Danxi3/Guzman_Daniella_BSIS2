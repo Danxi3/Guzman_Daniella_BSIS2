{
  "nbformat": 4,
  "nbformat_minor": 0,
  "metadata": {
    "colab": {
      "provenance": [],
      "authorship_tag": "ABX9TyP83Naz2uoa5TCCS47QedDd",
      "include_colab_link": true
    },
    "kernelspec": {
      "name": "python3",
      "display_name": "Python 3"
    },
    "language_info": {
      "name": "python"
    }
  },
  "cells": [
    {
      "cell_type": "markdown",
      "metadata": {
        "id": "view-in-github",
        "colab_type": "text"
      },
      "source": [
        "<a href=\"https://colab.research.google.com/github/Danxi3/Guzman_Daniella_BSIS2/blob/main/STUDENT_INFO.ipynb\" target=\"_parent\"><img src=\"https://colab.research.google.com/assets/colab-badge.svg\" alt=\"Open In Colab\"/></a>"
      ]
    },
    {
      "cell_type": "code",
      "execution_count": null,
      "metadata": {
        "id": "EI5GhKpzCg_K"
      },
      "outputs": [],
      "source": [
        "import pandas as pd"
      ]
    },
    {
      "cell_type": "code",
      "source": [
        "df = pd.read_csv('https://raw.githubusercontent.com/Danxi3/Guzman_Daniella_BSIS2/refs/heads/main/students_dataset.csv')"
      ],
      "metadata": {
        "id": "vOut9RizC4zF"
      },
      "execution_count": null,
      "outputs": []
    },
    {
      "cell_type": "code",
      "source": [
        "print(\"Original row count\", len(df))"
      ],
      "metadata": {
        "colab": {
          "base_uri": "https://localhost:8080/"
        },
        "id": "6Xpu1NFHDdJq",
        "outputId": "a039e5fd-b965-4e21-e9ba-33311abf139d"
      },
      "execution_count": null,
      "outputs": [
        {
          "output_type": "stream",
          "name": "stdout",
          "text": [
            "Original row count 50\n"
          ]
        }
      ]
    },
    {
      "cell_type": "code",
      "source": [
        "df.info"
      ],
      "metadata": {
        "colab": {
          "base_uri": "https://localhost:8080/",
          "height": 272
        },
        "id": "FsQPKqBTDd63",
        "outputId": "169a827d-753e-4ef7-fb12-8af6da724242"
      },
      "execution_count": null,
      "outputs": [
        {
          "output_type": "execute_result",
          "data": {
            "text/plain": [
              "<bound method DataFrame.info of    FirstName LastName   Age     Course  Grade\n",
              "0       Emma    Smith  18.0        NaN  75.07\n",
              "1       John      NaN  25.0      Music  81.47\n",
              "2      Maria   Garcia  24.0        Art  66.35\n",
              "3      Chris   Taylor  24.0  Chemistry  72.77\n",
              "4        NaN   Garcia  25.0       Math  88.05\n",
              "5      Chris   Garcia  20.0        NaN  69.26\n",
              "6    Michael    Smith  21.0        NaN  96.31\n",
              "7      Chris    White  18.0  Chemistry  64.55\n",
              "8      Sarah    White  20.0         PE  93.74\n",
              "9      Maria    Lewis  24.0  Chemistry  76.84\n",
              "10      John    Smith  22.0    English    NaN\n",
              "11       NaN   Martin  23.0    History  84.03\n",
              "12     Maria    Lewis  21.0    Physics  60.29\n",
              "13      Emma    Smith  20.0         PE  86.84\n",
              "14      John      NaN  18.0         PE  70.54\n",
              "15     David  Johnson  23.0        Art  61.09\n",
              "16      John   Garcia  20.0         PE  81.66\n",
              "17      Alex    Clark   NaN        NaN  80.73\n",
              "18     Maria   Garcia  25.0    Physics  91.91\n",
              "19       NaN    Lewis  20.0    English  83.30\n",
              "20      Emma      Lee  19.0        NaN  69.34\n",
              "21      Emma    Brown  18.0    Biology  85.98\n",
              "22     Sarah    Smith  19.0  Chemistry  96.67\n",
              "23   Michael    Smith  19.0        Art  63.36\n",
              "24      Emma      NaN  22.0        NaN  62.80\n",
              "25      Alex    Smith  20.0    Physics  69.23\n",
              "26       NaN   Martin   NaN       Math  67.02\n",
              "27     Maria   Taylor  20.0       Math  87.14\n",
              "28     David    White  19.0    Biology  96.42\n",
              "29      John    Brown  24.0         PE  60.79\n",
              "30     Chris    Brown  24.0    Physics  78.08\n",
              "31     Chris    Clark  20.0    History  80.41\n",
              "32      John    Brown  21.0  Chemistry  66.69\n",
              "33    Daniel    Brown  25.0    Science  63.49\n",
              "34       NaN  Johnson  23.0  Chemistry    NaN\n",
              "35   Michael    White  19.0    Science  71.22\n",
              "36     Chris      NaN  18.0    History  88.95\n",
              "37       NaN    Clark  19.0    Physics  80.63\n",
              "38     David  Johnson  20.0  Chemistry  78.96\n",
              "39     Sarah   Martin  25.0    Science  85.55\n",
              "40       NaN      Lee  19.0       Math  96.18\n",
              "41     Chris   Martin  24.0         PE  68.21\n",
              "42      Jane      NaN  20.0         PE  93.99\n",
              "43     Chris    Lewis  25.0       Math  94.89\n",
              "44      Emma  Johnson  20.0  Chemistry  68.97\n",
              "45      John    Lewis  19.0  Chemistry    NaN\n",
              "46      Emma    Clark  20.0      Music  60.19\n",
              "47   Michael   Martin  21.0      Music  85.31\n",
              "48     Maria   Garcia  18.0      Music  61.90\n",
              "49     Maria      Lee  25.0    Science  93.74>"
            ],
            "text/html": [
              "<div style=\"max-width:800px; border: 1px solid var(--colab-border-color);\"><style>\n",
              "      pre.function-repr-contents {\n",
              "        overflow-x: auto;\n",
              "        padding: 8px 12px;\n",
              "        max-height: 500px;\n",
              "      }\n",
              "\n",
              "      pre.function-repr-contents.function-repr-contents-collapsed {\n",
              "        cursor: pointer;\n",
              "        max-height: 100px;\n",
              "      }\n",
              "    </style>\n",
              "    <pre style=\"white-space: initial; background:\n",
              "         var(--colab-secondary-surface-color); padding: 8px 12px;\n",
              "         border-bottom: 1px solid var(--colab-border-color);\"><b>pandas.core.frame.DataFrame.info</b><br/>def info(verbose: bool | None=None, buf: WriteBuffer[str] | None=None, max_cols: int | None=None, memory_usage: bool | str | None=None, show_counts: bool | None=None) -&gt; None</pre><pre class=\"function-repr-contents function-repr-contents-collapsed\" style=\"\"><a class=\"filepath\" style=\"display:none\" href=\"#\">/usr/local/lib/python3.11/dist-packages/pandas/core/frame.py</a>Print a concise summary of a DataFrame.\n",
              "\n",
              "This method prints information about a DataFrame including\n",
              "the index dtype and columns, non-null values and memory usage.\n",
              "\n",
              "Parameters\n",
              "----------\n",
              "verbose : bool, optional\n",
              "    Whether to print the full summary. By default, the setting in\n",
              "    ``pandas.options.display.max_info_columns`` is followed.\n",
              "buf : writable buffer, defaults to sys.stdout\n",
              "    Where to send the output. By default, the output is printed to\n",
              "    sys.stdout. Pass a writable buffer if you need to further process\n",
              "    the output.\n",
              "max_cols : int, optional\n",
              "    When to switch from the verbose to the truncated output. If the\n",
              "    DataFrame has more than `max_cols` columns, the truncated output\n",
              "    is used. By default, the setting in\n",
              "    ``pandas.options.display.max_info_columns`` is used.\n",
              "memory_usage : bool, str, optional\n",
              "    Specifies whether total memory usage of the DataFrame\n",
              "    elements (including the index) should be displayed. By default,\n",
              "    this follows the ``pandas.options.display.memory_usage`` setting.\n",
              "\n",
              "    True always show memory usage. False never shows memory usage.\n",
              "    A value of &#x27;deep&#x27; is equivalent to &quot;True with deep introspection&quot;.\n",
              "    Memory usage is shown in human-readable units (base-2\n",
              "    representation). Without deep introspection a memory estimation is\n",
              "    made based in column dtype and number of rows assuming values\n",
              "    consume the same memory amount for corresponding dtypes. With deep\n",
              "    memory introspection, a real memory usage calculation is performed\n",
              "    at the cost of computational resources. See the\n",
              "    :ref:`Frequently Asked Questions &lt;df-memory-usage&gt;` for more\n",
              "    details.\n",
              "show_counts : bool, optional\n",
              "    Whether to show the non-null counts. By default, this is shown\n",
              "    only if the DataFrame is smaller than\n",
              "    ``pandas.options.display.max_info_rows`` and\n",
              "    ``pandas.options.display.max_info_columns``. A value of True always\n",
              "    shows the counts, and False never shows the counts.\n",
              "\n",
              "Returns\n",
              "-------\n",
              "None\n",
              "    This method prints a summary of a DataFrame and returns None.\n",
              "\n",
              "See Also\n",
              "--------\n",
              "DataFrame.describe: Generate descriptive statistics of DataFrame\n",
              "    columns.\n",
              "DataFrame.memory_usage: Memory usage of DataFrame columns.\n",
              "\n",
              "Examples\n",
              "--------\n",
              "&gt;&gt;&gt; int_values = [1, 2, 3, 4, 5]\n",
              "&gt;&gt;&gt; text_values = [&#x27;alpha&#x27;, &#x27;beta&#x27;, &#x27;gamma&#x27;, &#x27;delta&#x27;, &#x27;epsilon&#x27;]\n",
              "&gt;&gt;&gt; float_values = [0.0, 0.25, 0.5, 0.75, 1.0]\n",
              "&gt;&gt;&gt; df = pd.DataFrame({&quot;int_col&quot;: int_values, &quot;text_col&quot;: text_values,\n",
              "...                   &quot;float_col&quot;: float_values})\n",
              "&gt;&gt;&gt; df\n",
              "    int_col text_col  float_col\n",
              "0        1    alpha       0.00\n",
              "1        2     beta       0.25\n",
              "2        3    gamma       0.50\n",
              "3        4    delta       0.75\n",
              "4        5  epsilon       1.00\n",
              "\n",
              "Prints information of all columns:\n",
              "\n",
              "&gt;&gt;&gt; df.info(verbose=True)\n",
              "&lt;class &#x27;pandas.core.frame.DataFrame&#x27;&gt;\n",
              "RangeIndex: 5 entries, 0 to 4\n",
              "Data columns (total 3 columns):\n",
              " #   Column     Non-Null Count  Dtype\n",
              "---  ------     --------------  -----\n",
              " 0   int_col    5 non-null      int64\n",
              " 1   text_col   5 non-null      object\n",
              " 2   float_col  5 non-null      float64\n",
              "dtypes: float64(1), int64(1), object(1)\n",
              "memory usage: 248.0+ bytes\n",
              "\n",
              "Prints a summary of columns count and its dtypes but not per column\n",
              "information:\n",
              "\n",
              "&gt;&gt;&gt; df.info(verbose=False)\n",
              "&lt;class &#x27;pandas.core.frame.DataFrame&#x27;&gt;\n",
              "RangeIndex: 5 entries, 0 to 4\n",
              "Columns: 3 entries, int_col to float_col\n",
              "dtypes: float64(1), int64(1), object(1)\n",
              "memory usage: 248.0+ bytes\n",
              "\n",
              "Pipe output of DataFrame.info to buffer instead of sys.stdout, get\n",
              "buffer content and writes to a text file:\n",
              "\n",
              "&gt;&gt;&gt; import io\n",
              "&gt;&gt;&gt; buffer = io.StringIO()\n",
              "&gt;&gt;&gt; df.info(buf=buffer)\n",
              "&gt;&gt;&gt; s = buffer.getvalue()\n",
              "&gt;&gt;&gt; with open(&quot;df_info.txt&quot;, &quot;w&quot;,\n",
              "...           encoding=&quot;utf-8&quot;) as f:  # doctest: +SKIP\n",
              "...     f.write(s)\n",
              "260\n",
              "\n",
              "The `memory_usage` parameter allows deep introspection mode, specially\n",
              "useful for big DataFrames and fine-tune memory optimization:\n",
              "\n",
              "&gt;&gt;&gt; random_strings_array = np.random.choice([&#x27;a&#x27;, &#x27;b&#x27;, &#x27;c&#x27;], 10 ** 6)\n",
              "&gt;&gt;&gt; df = pd.DataFrame({\n",
              "...     &#x27;column_1&#x27;: np.random.choice([&#x27;a&#x27;, &#x27;b&#x27;, &#x27;c&#x27;], 10 ** 6),\n",
              "...     &#x27;column_2&#x27;: np.random.choice([&#x27;a&#x27;, &#x27;b&#x27;, &#x27;c&#x27;], 10 ** 6),\n",
              "...     &#x27;column_3&#x27;: np.random.choice([&#x27;a&#x27;, &#x27;b&#x27;, &#x27;c&#x27;], 10 ** 6)\n",
              "... })\n",
              "&gt;&gt;&gt; df.info()\n",
              "&lt;class &#x27;pandas.core.frame.DataFrame&#x27;&gt;\n",
              "RangeIndex: 1000000 entries, 0 to 999999\n",
              "Data columns (total 3 columns):\n",
              " #   Column    Non-Null Count    Dtype\n",
              "---  ------    --------------    -----\n",
              " 0   column_1  1000000 non-null  object\n",
              " 1   column_2  1000000 non-null  object\n",
              " 2   column_3  1000000 non-null  object\n",
              "dtypes: object(3)\n",
              "memory usage: 22.9+ MB\n",
              "\n",
              "&gt;&gt;&gt; df.info(memory_usage=&#x27;deep&#x27;)\n",
              "&lt;class &#x27;pandas.core.frame.DataFrame&#x27;&gt;\n",
              "RangeIndex: 1000000 entries, 0 to 999999\n",
              "Data columns (total 3 columns):\n",
              " #   Column    Non-Null Count    Dtype\n",
              "---  ------    --------------    -----\n",
              " 0   column_1  1000000 non-null  object\n",
              " 1   column_2  1000000 non-null  object\n",
              " 2   column_3  1000000 non-null  object\n",
              "dtypes: object(3)\n",
              "memory usage: 165.9 MB</pre>\n",
              "      <script>\n",
              "      if (google.colab.kernel.accessAllowed && google.colab.files && google.colab.files.view) {\n",
              "        for (const element of document.querySelectorAll('.filepath')) {\n",
              "          element.style.display = 'block'\n",
              "          element.onclick = (event) => {\n",
              "            event.preventDefault();\n",
              "            event.stopPropagation();\n",
              "            google.colab.files.view(element.textContent, 3646);\n",
              "          };\n",
              "        }\n",
              "      }\n",
              "      for (const element of document.querySelectorAll('.function-repr-contents')) {\n",
              "        element.onclick = (event) => {\n",
              "          event.preventDefault();\n",
              "          event.stopPropagation();\n",
              "          element.classList.toggle('function-repr-contents-collapsed');\n",
              "        };\n",
              "      }\n",
              "      </script>\n",
              "      </div>"
            ]
          },
          "metadata": {},
          "execution_count": 7
        }
      ]
    },
    {
      "cell_type": "code",
      "source": [
        "print(df)"
      ],
      "metadata": {
        "colab": {
          "base_uri": "https://localhost:8080/"
        },
        "id": "nsvs5yqfDgxm",
        "outputId": "c3db6205-f59b-48a9-e725-a7e1bec1bf5a"
      },
      "execution_count": null,
      "outputs": [
        {
          "output_type": "stream",
          "name": "stdout",
          "text": [
            "   FirstName LastName   Age     Course  Grade\n",
            "0       Emma    Smith  18.0        NaN  75.07\n",
            "1       John      NaN  25.0      Music  81.47\n",
            "2      Maria   Garcia  24.0        Art  66.35\n",
            "3      Chris   Taylor  24.0  Chemistry  72.77\n",
            "4        NaN   Garcia  25.0       Math  88.05\n",
            "5      Chris   Garcia  20.0        NaN  69.26\n",
            "6    Michael    Smith  21.0        NaN  96.31\n",
            "7      Chris    White  18.0  Chemistry  64.55\n",
            "8      Sarah    White  20.0         PE  93.74\n",
            "9      Maria    Lewis  24.0  Chemistry  76.84\n",
            "10      John    Smith  22.0    English    NaN\n",
            "11       NaN   Martin  23.0    History  84.03\n",
            "12     Maria    Lewis  21.0    Physics  60.29\n",
            "13      Emma    Smith  20.0         PE  86.84\n",
            "14      John      NaN  18.0         PE  70.54\n",
            "15     David  Johnson  23.0        Art  61.09\n",
            "16      John   Garcia  20.0         PE  81.66\n",
            "17      Alex    Clark   NaN        NaN  80.73\n",
            "18     Maria   Garcia  25.0    Physics  91.91\n",
            "19       NaN    Lewis  20.0    English  83.30\n",
            "20      Emma      Lee  19.0        NaN  69.34\n",
            "21      Emma    Brown  18.0    Biology  85.98\n",
            "22     Sarah    Smith  19.0  Chemistry  96.67\n",
            "23   Michael    Smith  19.0        Art  63.36\n",
            "24      Emma      NaN  22.0        NaN  62.80\n",
            "25      Alex    Smith  20.0    Physics  69.23\n",
            "26       NaN   Martin   NaN       Math  67.02\n",
            "27     Maria   Taylor  20.0       Math  87.14\n",
            "28     David    White  19.0    Biology  96.42\n",
            "29      John    Brown  24.0         PE  60.79\n",
            "30     Chris    Brown  24.0    Physics  78.08\n",
            "31     Chris    Clark  20.0    History  80.41\n",
            "32      John    Brown  21.0  Chemistry  66.69\n",
            "33    Daniel    Brown  25.0    Science  63.49\n",
            "34       NaN  Johnson  23.0  Chemistry    NaN\n",
            "35   Michael    White  19.0    Science  71.22\n",
            "36     Chris      NaN  18.0    History  88.95\n",
            "37       NaN    Clark  19.0    Physics  80.63\n",
            "38     David  Johnson  20.0  Chemistry  78.96\n",
            "39     Sarah   Martin  25.0    Science  85.55\n",
            "40       NaN      Lee  19.0       Math  96.18\n",
            "41     Chris   Martin  24.0         PE  68.21\n",
            "42      Jane      NaN  20.0         PE  93.99\n",
            "43     Chris    Lewis  25.0       Math  94.89\n",
            "44      Emma  Johnson  20.0  Chemistry  68.97\n",
            "45      John    Lewis  19.0  Chemistry    NaN\n",
            "46      Emma    Clark  20.0      Music  60.19\n",
            "47   Michael   Martin  21.0      Music  85.31\n",
            "48     Maria   Garcia  18.0      Music  61.90\n",
            "49     Maria      Lee  25.0    Science  93.74\n"
          ]
        }
      ]
    },
    {
      "cell_type": "code",
      "source": [
        "df[\"FirstName\"] = df[\"FirstName\"].fillna(\"Unknown\")"
      ],
      "metadata": {
        "id": "HygNX_chDx93"
      },
      "execution_count": null,
      "outputs": []
    },
    {
      "cell_type": "code",
      "source": [
        "df[\"LastName\"] = df[\"LastName\"].fillna(\"Unknown\")"
      ],
      "metadata": {
        "id": "6D_Y7vKMD1Mk"
      },
      "execution_count": null,
      "outputs": []
    },
    {
      "cell_type": "code",
      "source": [
        "df[\"Age\"] = df[\"Age\"].fillna(df[\"Age\"].mean())"
      ],
      "metadata": {
        "id": "wLWuzmAwD5oi"
      },
      "execution_count": null,
      "outputs": []
    },
    {
      "cell_type": "code",
      "source": [
        "df[\"Course\"] = df[\"Course\"].fillna(\"Undefined Course\")"
      ],
      "metadata": {
        "id": "P5JUp7YlD8JR"
      },
      "execution_count": null,
      "outputs": []
    },
    {
      "cell_type": "code",
      "source": [
        "df[\"Grade\"] = df[\"Grade\"].fillna(df[\"Grade\"].mean())"
      ],
      "metadata": {
        "id": "nMxnZdSOD_uS"
      },
      "execution_count": null,
      "outputs": []
    },
    {
      "cell_type": "code",
      "source": [
        "pd.set_option(\"display.max_rows\", None)\n",
        "print(df)"
      ],
      "metadata": {
        "id": "-sVb5L0DEDYJ",
        "outputId": "3d6da8f1-d2c2-4bb2-b27d-16f7cedfe8fd",
        "colab": {
          "base_uri": "https://localhost:8080/"
        }
      },
      "execution_count": null,
      "outputs": [
        {
          "output_type": "stream",
          "name": "stdout",
          "text": [
            "   FirstName LastName        Age            Course      Grade\n",
            "0       Emma    Smith  18.000000  Undefined Course  75.070000\n",
            "1       John  Unknown  25.000000             Music  81.470000\n",
            "2      Maria   Garcia  24.000000               Art  66.350000\n",
            "3      Chris   Taylor  24.000000         Chemistry  72.770000\n",
            "4    Unknown   Garcia  25.000000              Math  88.050000\n",
            "5      Chris   Garcia  20.000000  Undefined Course  69.260000\n",
            "6    Michael    Smith  21.000000  Undefined Course  96.310000\n",
            "7      Chris    White  18.000000         Chemistry  64.550000\n",
            "8      Sarah    White  20.000000                PE  93.740000\n",
            "9      Maria    Lewis  24.000000         Chemistry  76.840000\n",
            "10      John    Smith  22.000000           English  77.891702\n",
            "11   Unknown   Martin  23.000000           History  84.030000\n",
            "12     Maria    Lewis  21.000000           Physics  60.290000\n",
            "13      Emma    Smith  20.000000                PE  86.840000\n",
            "14      John  Unknown  18.000000                PE  70.540000\n",
            "15     David  Johnson  23.000000               Art  61.090000\n",
            "16      John   Garcia  20.000000                PE  81.660000\n",
            "17      Alex    Clark  21.166667  Undefined Course  80.730000\n",
            "18     Maria   Garcia  25.000000           Physics  91.910000\n",
            "19   Unknown    Lewis  20.000000           English  83.300000\n",
            "20      Emma      Lee  19.000000  Undefined Course  69.340000\n",
            "21      Emma    Brown  18.000000           Biology  85.980000\n",
            "22     Sarah    Smith  19.000000         Chemistry  96.670000\n",
            "23   Michael    Smith  19.000000               Art  63.360000\n",
            "24      Emma  Unknown  22.000000  Undefined Course  62.800000\n",
            "25      Alex    Smith  20.000000           Physics  69.230000\n",
            "26   Unknown   Martin  21.166667              Math  67.020000\n",
            "27     Maria   Taylor  20.000000              Math  87.140000\n",
            "28     David    White  19.000000           Biology  96.420000\n",
            "29      John    Brown  24.000000                PE  60.790000\n",
            "30     Chris    Brown  24.000000           Physics  78.080000\n",
            "31     Chris    Clark  20.000000           History  80.410000\n",
            "32      John    Brown  21.000000         Chemistry  66.690000\n",
            "33    Daniel    Brown  25.000000           Science  63.490000\n",
            "34   Unknown  Johnson  23.000000         Chemistry  77.891702\n",
            "35   Michael    White  19.000000           Science  71.220000\n",
            "36     Chris  Unknown  18.000000           History  88.950000\n",
            "37   Unknown    Clark  19.000000           Physics  80.630000\n",
            "38     David  Johnson  20.000000         Chemistry  78.960000\n",
            "39     Sarah   Martin  25.000000           Science  85.550000\n",
            "40   Unknown      Lee  19.000000              Math  96.180000\n",
            "41     Chris   Martin  24.000000                PE  68.210000\n",
            "42      Jane  Unknown  20.000000                PE  93.990000\n",
            "43     Chris    Lewis  25.000000              Math  94.890000\n",
            "44      Emma  Johnson  20.000000         Chemistry  68.970000\n",
            "45      John    Lewis  19.000000         Chemistry  77.891702\n",
            "46      Emma    Clark  20.000000             Music  60.190000\n",
            "47   Michael   Martin  21.000000             Music  85.310000\n",
            "48     Maria   Garcia  18.000000             Music  61.900000\n",
            "49     Maria      Lee  25.000000           Science  93.740000\n"
          ]
        }
      ]
    },
    {
      "cell_type": "code",
      "source": [
        "print(\"Before removing duplicates:\")"
      ],
      "metadata": {
        "id": "6YTFSoIpEL_L",
        "colab": {
          "base_uri": "https://localhost:8080/"
        },
        "outputId": "85f7d876-5571-41c2-eade-505125f486c3"
      },
      "execution_count": null,
      "outputs": [
        {
          "output_type": "stream",
          "name": "stdout",
          "text": [
            "Before removing duplicates:\n"
          ]
        }
      ]
    },
    {
      "cell_type": "code",
      "source": [
        "df = df.drop_duplicates()"
      ],
      "metadata": {
        "id": "UCKbru1uEZyG"
      },
      "execution_count": null,
      "outputs": []
    },
    {
      "cell_type": "code",
      "source": [
        "print(\"\\nAfter removing duplicates:\")\n",
        "print(df)"
      ],
      "metadata": {
        "colab": {
          "base_uri": "https://localhost:8080/"
        },
        "id": "UF2sYYNJEdFd",
        "outputId": "3609f19b-c511-45dc-bdc1-5b0251e21901"
      },
      "execution_count": null,
      "outputs": [
        {
          "output_type": "stream",
          "name": "stdout",
          "text": [
            "\n",
            "After removing duplicates:\n",
            "   FirstName LastName        Age            Course      Grade\n",
            "0       Emma    Smith  18.000000  Undefined Course  75.070000\n",
            "1       John  Unknown  25.000000             Music  81.470000\n",
            "2      Maria   Garcia  24.000000               Art  66.350000\n",
            "3      Chris   Taylor  24.000000         Chemistry  72.770000\n",
            "4    Unknown   Garcia  25.000000              Math  88.050000\n",
            "5      Chris   Garcia  20.000000  Undefined Course  69.260000\n",
            "6    Michael    Smith  21.000000  Undefined Course  96.310000\n",
            "7      Chris    White  18.000000         Chemistry  64.550000\n",
            "8      Sarah    White  20.000000                PE  93.740000\n",
            "9      Maria    Lewis  24.000000         Chemistry  76.840000\n",
            "10      John    Smith  22.000000           English  77.891702\n",
            "11   Unknown   Martin  23.000000           History  84.030000\n",
            "12     Maria    Lewis  21.000000           Physics  60.290000\n",
            "13      Emma    Smith  20.000000                PE  86.840000\n",
            "14      John  Unknown  18.000000                PE  70.540000\n",
            "15     David  Johnson  23.000000               Art  61.090000\n",
            "16      John   Garcia  20.000000                PE  81.660000\n",
            "17      Alex    Clark  21.166667  Undefined Course  80.730000\n",
            "18     Maria   Garcia  25.000000           Physics  91.910000\n",
            "19   Unknown    Lewis  20.000000           English  83.300000\n",
            "20      Emma      Lee  19.000000  Undefined Course  69.340000\n",
            "21      Emma    Brown  18.000000           Biology  85.980000\n",
            "22     Sarah    Smith  19.000000         Chemistry  96.670000\n",
            "23   Michael    Smith  19.000000               Art  63.360000\n",
            "24      Emma  Unknown  22.000000  Undefined Course  62.800000\n",
            "25      Alex    Smith  20.000000           Physics  69.230000\n",
            "26   Unknown   Martin  21.166667              Math  67.020000\n",
            "27     Maria   Taylor  20.000000              Math  87.140000\n",
            "28     David    White  19.000000           Biology  96.420000\n",
            "29      John    Brown  24.000000                PE  60.790000\n",
            "30     Chris    Brown  24.000000           Physics  78.080000\n",
            "31     Chris    Clark  20.000000           History  80.410000\n",
            "32      John    Brown  21.000000         Chemistry  66.690000\n",
            "33    Daniel    Brown  25.000000           Science  63.490000\n",
            "34   Unknown  Johnson  23.000000         Chemistry  77.891702\n",
            "35   Michael    White  19.000000           Science  71.220000\n",
            "36     Chris  Unknown  18.000000           History  88.950000\n",
            "37   Unknown    Clark  19.000000           Physics  80.630000\n",
            "38     David  Johnson  20.000000         Chemistry  78.960000\n",
            "39     Sarah   Martin  25.000000           Science  85.550000\n",
            "40   Unknown      Lee  19.000000              Math  96.180000\n",
            "41     Chris   Martin  24.000000                PE  68.210000\n",
            "42      Jane  Unknown  20.000000                PE  93.990000\n",
            "43     Chris    Lewis  25.000000              Math  94.890000\n",
            "44      Emma  Johnson  20.000000         Chemistry  68.970000\n",
            "45      John    Lewis  19.000000         Chemistry  77.891702\n",
            "46      Emma    Clark  20.000000             Music  60.190000\n",
            "47   Michael   Martin  21.000000             Music  85.310000\n",
            "48     Maria   Garcia  18.000000             Music  61.900000\n",
            "49     Maria      Lee  25.000000           Science  93.740000\n"
          ]
        }
      ]
    },
    {
      "cell_type": "code",
      "source": [
        "df = df[df['FirstName'] != 'Unknown']"
      ],
      "metadata": {
        "id": "t2nqO8WIEev_"
      },
      "execution_count": null,
      "outputs": []
    },
    {
      "cell_type": "code",
      "source": [
        "df = df[df['LastName'] != 'Unknown']"
      ],
      "metadata": {
        "id": "1IoJ4wTFEvSS"
      },
      "execution_count": null,
      "outputs": []
    },
    {
      "cell_type": "code",
      "source": [
        "df = df.dropna(subset=['Course', 'Age', 'Grade'])"
      ],
      "metadata": {
        "id": "5uNQB5IDE0Zw"
      },
      "execution_count": null,
      "outputs": []
    },
    {
      "cell_type": "code",
      "source": [
        "print(\"\\nAfter cleaning:\")\n",
        "print(df)"
      ],
      "metadata": {
        "colab": {
          "base_uri": "https://localhost:8080/"
        },
        "id": "02JRy0lUE2rn",
        "outputId": "ea1c9ace-52f1-4b52-c9d8-636b93272a8b"
      },
      "execution_count": null,
      "outputs": [
        {
          "output_type": "stream",
          "name": "stdout",
          "text": [
            "\n",
            "After cleaning:\n",
            "   FirstName LastName        Age            Course      Grade\n",
            "0       Emma    Smith  18.000000  Undefined Course  75.070000\n",
            "2      Maria   Garcia  24.000000               Art  66.350000\n",
            "3      Chris   Taylor  24.000000         Chemistry  72.770000\n",
            "5      Chris   Garcia  20.000000  Undefined Course  69.260000\n",
            "6    Michael    Smith  21.000000  Undefined Course  96.310000\n",
            "7      Chris    White  18.000000         Chemistry  64.550000\n",
            "8      Sarah    White  20.000000                PE  93.740000\n",
            "9      Maria    Lewis  24.000000         Chemistry  76.840000\n",
            "10      John    Smith  22.000000           English  77.891702\n",
            "12     Maria    Lewis  21.000000           Physics  60.290000\n",
            "13      Emma    Smith  20.000000                PE  86.840000\n",
            "15     David  Johnson  23.000000               Art  61.090000\n",
            "16      John   Garcia  20.000000                PE  81.660000\n",
            "17      Alex    Clark  21.166667  Undefined Course  80.730000\n",
            "18     Maria   Garcia  25.000000           Physics  91.910000\n",
            "20      Emma      Lee  19.000000  Undefined Course  69.340000\n",
            "21      Emma    Brown  18.000000           Biology  85.980000\n",
            "22     Sarah    Smith  19.000000         Chemistry  96.670000\n",
            "23   Michael    Smith  19.000000               Art  63.360000\n",
            "25      Alex    Smith  20.000000           Physics  69.230000\n",
            "27     Maria   Taylor  20.000000              Math  87.140000\n",
            "28     David    White  19.000000           Biology  96.420000\n",
            "29      John    Brown  24.000000                PE  60.790000\n",
            "30     Chris    Brown  24.000000           Physics  78.080000\n",
            "31     Chris    Clark  20.000000           History  80.410000\n",
            "32      John    Brown  21.000000         Chemistry  66.690000\n",
            "33    Daniel    Brown  25.000000           Science  63.490000\n",
            "35   Michael    White  19.000000           Science  71.220000\n",
            "38     David  Johnson  20.000000         Chemistry  78.960000\n",
            "39     Sarah   Martin  25.000000           Science  85.550000\n",
            "41     Chris   Martin  24.000000                PE  68.210000\n",
            "43     Chris    Lewis  25.000000              Math  94.890000\n",
            "44      Emma  Johnson  20.000000         Chemistry  68.970000\n",
            "45      John    Lewis  19.000000         Chemistry  77.891702\n",
            "46      Emma    Clark  20.000000             Music  60.190000\n",
            "47   Michael   Martin  21.000000             Music  85.310000\n",
            "48     Maria   Garcia  18.000000             Music  61.900000\n",
            "49     Maria      Lee  25.000000           Science  93.740000\n"
          ]
        }
      ]
    }
  ]
}