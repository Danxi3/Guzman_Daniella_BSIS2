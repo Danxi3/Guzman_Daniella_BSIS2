{
  "nbformat": 4,
  "nbformat_minor": 0,
  "metadata": {
    "colab": {
      "provenance": []
    },
    "kernelspec": {
      "name": "python3",
      "display_name": "Python 3"
    },
    "language_info": {
      "name": "python"
    }
  },
  "cells": [
    {
      "cell_type": "code",
      "execution_count": 1,
      "metadata": {
        "id": "TEVS3UHKo83d"
      },
      "outputs": [],
      "source": [
        "import pandas as pd"
      ]
    },
    {
      "cell_type": "code",
      "source": [
        "url = \"https://raw.githubusercontent.com/Danxi3/Guzman_Daniella_BSIS2/refs/heads/main/students_dataset.csv\"\n",
        "df = pd.read_csv(url)\n"
      ],
      "metadata": {
        "id": "AUnJVbKWpRlv"
      },
      "execution_count": 2,
      "outputs": []
    },
    {
      "cell_type": "code",
      "source": [
        "print(df.head())\n",
        "print(df.info())"
      ],
      "metadata": {
        "colab": {
          "base_uri": "https://localhost:8080/"
        },
        "id": "cj0YZl-YpTJ0",
        "outputId": "37ba304f-5c8b-424e-89fb-2109af85fdbb"
      },
      "execution_count": 3,
      "outputs": [
        {
          "output_type": "stream",
          "name": "stdout",
          "text": [
            "  FirstName LastName   Age     Course  Grade\n",
            "0      Emma    Smith  18.0        NaN  75.07\n",
            "1      John      NaN  25.0      Music  81.47\n",
            "2     Maria   Garcia  24.0        Art  66.35\n",
            "3     Chris   Taylor  24.0  Chemistry  72.77\n",
            "4       NaN   Garcia  25.0       Math  88.05\n",
            "<class 'pandas.core.frame.DataFrame'>\n",
            "RangeIndex: 50 entries, 0 to 49\n",
            "Data columns (total 5 columns):\n",
            " #   Column     Non-Null Count  Dtype  \n",
            "---  ------     --------------  -----  \n",
            " 0   FirstName  43 non-null     object \n",
            " 1   LastName   45 non-null     object \n",
            " 2   Age        48 non-null     float64\n",
            " 3   Course     44 non-null     object \n",
            " 4   Grade      47 non-null     float64\n",
            "dtypes: float64(2), object(3)\n",
            "memory usage: 2.1+ KB\n",
            "None\n"
          ]
        }
      ]
    },
    {
      "cell_type": "code",
      "source": [
        "df[\"FirstName\"] = df[\"FirstName\"].fillna(\"NA\")"
      ],
      "metadata": {
        "id": "soOrkCJJphge"
      },
      "execution_count": 4,
      "outputs": []
    },
    {
      "cell_type": "code",
      "source": [
        "df[\"LastName\"] = df[\"LastName\"].fillna(\"NA\")"
      ],
      "metadata": {
        "id": "PmlJCmK9pkJm"
      },
      "execution_count": 5,
      "outputs": []
    },
    {
      "cell_type": "code",
      "source": [
        "df[\"Age\"] = df[\"Age\"].fillna(df[\"Age\"].mean())"
      ],
      "metadata": {
        "id": "jzCZy49kpoNf"
      },
      "execution_count": 8,
      "outputs": []
    },
    {
      "cell_type": "code",
      "source": [
        "df[\"Course\"] = df[\"Course\"].fillna(\"Undefined Course\")"
      ],
      "metadata": {
        "id": "9vgZpZaDpxpg"
      },
      "execution_count": 9,
      "outputs": []
    },
    {
      "cell_type": "code",
      "source": [
        "df[\"Grade\"] = df[\"Grade\"].fillna(df[\"Grade\"].mean())"
      ],
      "metadata": {
        "id": "j6QTYXYLptUv"
      },
      "execution_count": 10,
      "outputs": []
    },
    {
      "cell_type": "code",
      "source": [
        "pd.set_option(\"display.max_rows\", None)  # Remove row limit\n",
        "print(df)"
      ],
      "metadata": {
        "colab": {
          "base_uri": "https://localhost:8080/"
        },
        "id": "9LiM4dylp3Uh",
        "outputId": "fc21fd02-baab-4438-b945-4f7999d19be3"
      },
      "execution_count": 12,
      "outputs": [
        {
          "output_type": "stream",
          "name": "stdout",
          "text": [
            "   FirstName LastName        Age            Course      Grade\n",
            "0       Emma    Smith  18.000000  Undefined Course  75.070000\n",
            "1       John       NA  25.000000             Music  81.470000\n",
            "2      Maria   Garcia  24.000000               Art  66.350000\n",
            "3      Chris   Taylor  24.000000         Chemistry  72.770000\n",
            "4         NA   Garcia  25.000000              Math  88.050000\n",
            "5      Chris   Garcia  20.000000  Undefined Course  69.260000\n",
            "6    Michael    Smith  21.000000  Undefined Course  96.310000\n",
            "7      Chris    White  18.000000         Chemistry  64.550000\n",
            "8      Sarah    White  20.000000                PE  93.740000\n",
            "9      Maria    Lewis  24.000000         Chemistry  76.840000\n",
            "10      John    Smith  22.000000           English  77.891702\n",
            "11        NA   Martin  23.000000           History  84.030000\n",
            "12     Maria    Lewis  21.000000           Physics  60.290000\n",
            "13      Emma    Smith  20.000000                PE  86.840000\n",
            "14      John       NA  18.000000                PE  70.540000\n",
            "15     David  Johnson  23.000000               Art  61.090000\n",
            "16      John   Garcia  20.000000                PE  81.660000\n",
            "17      Alex    Clark  21.166667  Undefined Course  80.730000\n",
            "18     Maria   Garcia  25.000000           Physics  91.910000\n",
            "19        NA    Lewis  20.000000           English  83.300000\n",
            "20      Emma      Lee  19.000000  Undefined Course  69.340000\n",
            "21      Emma    Brown  18.000000           Biology  85.980000\n",
            "22     Sarah    Smith  19.000000         Chemistry  96.670000\n",
            "23   Michael    Smith  19.000000               Art  63.360000\n",
            "24      Emma       NA  22.000000  Undefined Course  62.800000\n",
            "25      Alex    Smith  20.000000           Physics  69.230000\n",
            "26        NA   Martin  21.166667              Math  67.020000\n",
            "27     Maria   Taylor  20.000000              Math  87.140000\n",
            "28     David    White  19.000000           Biology  96.420000\n",
            "29      John    Brown  24.000000                PE  60.790000\n",
            "30     Chris    Brown  24.000000           Physics  78.080000\n",
            "31     Chris    Clark  20.000000           History  80.410000\n",
            "32      John    Brown  21.000000         Chemistry  66.690000\n",
            "33    Daniel    Brown  25.000000           Science  63.490000\n",
            "34        NA  Johnson  23.000000         Chemistry  77.891702\n",
            "35   Michael    White  19.000000           Science  71.220000\n",
            "36     Chris       NA  18.000000           History  88.950000\n",
            "37        NA    Clark  19.000000           Physics  80.630000\n",
            "38     David  Johnson  20.000000         Chemistry  78.960000\n",
            "39     Sarah   Martin  25.000000           Science  85.550000\n",
            "40        NA      Lee  19.000000              Math  96.180000\n",
            "41     Chris   Martin  24.000000                PE  68.210000\n",
            "42      Jane       NA  20.000000                PE  93.990000\n",
            "43     Chris    Lewis  25.000000              Math  94.890000\n",
            "44      Emma  Johnson  20.000000         Chemistry  68.970000\n",
            "45      John    Lewis  19.000000         Chemistry  77.891702\n",
            "46      Emma    Clark  20.000000             Music  60.190000\n",
            "47   Michael   Martin  21.000000             Music  85.310000\n",
            "48     Maria   Garcia  18.000000             Music  61.900000\n",
            "49     Maria      Lee  25.000000           Science  93.740000\n"
          ]
        }
      ]
    },
    {
      "cell_type": "code",
      "source": [
        "df = df.drop_duplicates(subset=[\"FirstName\", \"LastName\", \"Age\"])"
      ],
      "metadata": {
        "id": "vCGK6-r_qE2C"
      },
      "execution_count": 22,
      "outputs": []
    },
    {
      "cell_type": "code",
      "source": [
        "pd.set_option(\"display.max_rows\", None)\n",
        "print(df)"
      ],
      "metadata": {
        "colab": {
          "base_uri": "https://localhost:8080/"
        },
        "id": "xiLHOD-5qGUr",
        "outputId": "60e5a18c-f0d7-4550-fe3f-c53918c357c4"
      },
      "execution_count": 23,
      "outputs": [
        {
          "output_type": "stream",
          "name": "stdout",
          "text": [
            "   FirstName LastName        Age            Course      Grade\n",
            "0       Emma    Smith  18.000000  Undefined Course  75.070000\n",
            "1       John       NA  25.000000             Music  81.470000\n",
            "2      Maria   Garcia  24.000000               Art  66.350000\n",
            "3      Chris   Taylor  24.000000         Chemistry  72.770000\n",
            "4         NA   Garcia  25.000000              Math  88.050000\n",
            "5      Chris   Garcia  20.000000  Undefined Course  69.260000\n",
            "6    Michael    Smith  21.000000  Undefined Course  96.310000\n",
            "7      Chris    White  18.000000         Chemistry  64.550000\n",
            "8      Sarah    White  20.000000                PE  93.740000\n",
            "9      Maria    Lewis  24.000000         Chemistry  76.840000\n",
            "10      John    Smith  22.000000           English  77.891702\n",
            "11        NA   Martin  23.000000           History  84.030000\n",
            "12     Maria    Lewis  21.000000           Physics  60.290000\n",
            "13      Emma    Smith  20.000000                PE  86.840000\n",
            "14      John       NA  18.000000                PE  70.540000\n",
            "15     David  Johnson  23.000000               Art  61.090000\n",
            "16      John   Garcia  20.000000                PE  81.660000\n",
            "17      Alex    Clark  21.166667  Undefined Course  80.730000\n",
            "18     Maria   Garcia  25.000000           Physics  91.910000\n",
            "19        NA    Lewis  20.000000           English  83.300000\n",
            "20      Emma      Lee  19.000000  Undefined Course  69.340000\n",
            "21      Emma    Brown  18.000000           Biology  85.980000\n",
            "22     Sarah    Smith  19.000000         Chemistry  96.670000\n",
            "23   Michael    Smith  19.000000               Art  63.360000\n",
            "24      Emma       NA  22.000000  Undefined Course  62.800000\n",
            "25      Alex    Smith  20.000000           Physics  69.230000\n",
            "26        NA   Martin  21.166667              Math  67.020000\n",
            "27     Maria   Taylor  20.000000              Math  87.140000\n",
            "28     David    White  19.000000           Biology  96.420000\n",
            "29      John    Brown  24.000000                PE  60.790000\n",
            "30     Chris    Brown  24.000000           Physics  78.080000\n",
            "31     Chris    Clark  20.000000           History  80.410000\n",
            "32      John    Brown  21.000000         Chemistry  66.690000\n",
            "33    Daniel    Brown  25.000000           Science  63.490000\n",
            "34        NA  Johnson  23.000000         Chemistry  77.891702\n",
            "35   Michael    White  19.000000           Science  71.220000\n",
            "36     Chris       NA  18.000000           History  88.950000\n",
            "37        NA    Clark  19.000000           Physics  80.630000\n",
            "38     David  Johnson  20.000000         Chemistry  78.960000\n",
            "39     Sarah   Martin  25.000000           Science  85.550000\n",
            "40        NA      Lee  19.000000              Math  96.180000\n",
            "41     Chris   Martin  24.000000                PE  68.210000\n",
            "42      Jane       NA  20.000000                PE  93.990000\n",
            "43     Chris    Lewis  25.000000              Math  94.890000\n",
            "44      Emma  Johnson  20.000000         Chemistry  68.970000\n",
            "45      John    Lewis  19.000000         Chemistry  77.891702\n",
            "46      Emma    Clark  20.000000             Music  60.190000\n",
            "47   Michael   Martin  21.000000             Music  85.310000\n",
            "48     Maria   Garcia  18.000000             Music  61.900000\n",
            "49     Maria      Lee  25.000000           Science  93.740000\n"
          ]
        }
      ]
    },
    {
      "cell_type": "code",
      "source": [
        "df.to_csv(\"students_dataset_cleaned.csv\", index=False)"
      ],
      "metadata": {
        "id": "fMZFXPb_qRcL"
      },
      "execution_count": 24,
      "outputs": []
    },
    {
      "cell_type": "markdown",
      "source": [],
      "metadata": {
        "id": "XJPtWSC4rAaJ"
      }
    }
  ]
}